{
    "nbformat_minor": 1, 
    "cells": [
        {
            "source": "# A.I for S.E.A: Grab Safety Challenge", 
            "cell_type": "markdown", 
            "metadata": {}
        }, 
        {
            "source": " ", 
            "cell_type": "raw", 
            "metadata": {}
        }, 
        {
            "source": "### Problem statement", 
            "cell_type": "markdown", 
            "metadata": {}
        }, 
        {
            "source": "Given the telematics data for each trip and the label if the trip is tagged as dangerous driving, derive a model that can detect dangerous driving trips", 
            "cell_type": "markdown", 
            "metadata": {}
        }, 
        {
            "source": "The given dataset contains telematics data during trips (bookingID). Each trip will be assigned with label 1 or 0 in a separate label file to indicate dangerous driving. Pls take note that dangerous drivings are labelled per trip, while each trip could contain thousands of telematics data points. participants are supposed to create the features based on the telematics data before training models.", 
            "cell_type": "markdown", 
            "metadata": {}
        }, 
        {
            "source": "### Data preparation", 
            "cell_type": "markdown", 
            "metadata": {}
        }, 
        {
            "source": "Dataset description:\n\n    bookingID - Trip ID\n    Accuracy - accuracy inferred by GPS in meters\n    Bearing - GPS bearing in degree\n    acceleration_x - accelerometer reading at x axis (m/s2)\n    acceleration_y - accelerometer reading at y axis (m/s2)\n    acceleration_z - accelerometer reading at z axis (m/s2)\n    gyro_x - gyroscope reading in x axis (rad/s)\n    gyro_y - gyroscope reading in y axis (rad/s)\n    gyro_z - gyroscope reading in z axis (rad/s)\n    second - time of the record by number of seconds\n    Speed - speed measured by GPS in m/s", 
            "cell_type": "markdown", 
            "metadata": {}
        }, 
        {
            "source": "###### Importing datasets", 
            "cell_type": "markdown", 
            "metadata": {}
        }, 
        {
            "execution_count": 1, 
            "cell_type": "code", 
            "metadata": {}, 
            "outputs": [], 
            "source": "import types\nimport pandas as pd\nimport numpy as np\nfrom botocore.client import Config\nimport ibm_boto3"
        }, 
        {
            "execution_count": 2, 
            "cell_type": "code", 
            "metadata": {}, 
            "outputs": [], 
            "source": "# The code was removed by Watson Studio for sharing."
        }, 
        {
            "execution_count": 3, 
            "cell_type": "code", 
            "metadata": {}, 
            "outputs": [], 
            "source": "#df_data_label = pd.read_csv(body)\n#df_data_0 = pd.read_csv(body0)\n#df_data_1 = pd.read_csv(body1)\n#df_data_2 = pd.read_csv(body2)\n#df_data_3 = pd.read_csv(body3)\n#df_data_4 = pd.read_csv(body4)\n#df_data_5 = pd.read_csv(body5)\n#df_data_6 = pd.read_csv(body6)\n#df_data_7 = pd.read_csv(body7)\n#df_data_8 = pd.read_csv(body8)\n#df_data_9 = pd.read_csv(body9)"
        }, 
        {
            "execution_count": 3, 
            "cell_type": "code", 
            "metadata": {}, 
            "outputs": [], 
            "source": "#get index of rows with duplicates\ndf_label_dup_index = df_data_label.loc[df_data_label.duplicated(subset = 'bookingID', keep = False) == True].sort_values(ascending = True, by = 'bookingID').index"
        }, 
        {
            "source": "###### Data cleaning", 
            "cell_type": "markdown", 
            "metadata": {}
        }, 
        {
            "source": "Drop duplicate bookingID in labeled-dataset to avoid inconsistencies in a booking record", 
            "cell_type": "markdown", 
            "metadata": {}
        }, 
        {
            "execution_count": 4, 
            "cell_type": "code", 
            "metadata": {}, 
            "outputs": [], 
            "source": "#drop rows with duplicate\ndf_data_label.drop(labels = df_label_dup_index, axis = 'index' ,inplace = True)"
        }, 
        {
            "source": "Merge partial datasets (Grab safety)", 
            "cell_type": "markdown", 
            "metadata": {}
        }, 
        {
            "execution_count": 5, 
            "cell_type": "code", 
            "metadata": {}, 
            "outputs": [], 
            "source": "#combine all dataset\ndf_data = df_data_0.append([df_data_1, df_data_2, df_data_3, df_data_4, df_data_5, df_data_6, df_data_7, df_data_8, df_data_9])"
        }, 
        {
            "execution_count": 6, 
            "cell_type": "code", 
            "metadata": {}, 
            "outputs": [], 
            "source": "#merge dataset with label dataset\ndf_data = df_data.merge(df_data_label, on = 'bookingID', how = 'right')"
        }, 
        {
            "execution_count": 7, 
            "cell_type": "code", 
            "metadata": {}, 
            "outputs": [], 
            "source": "#df_data.shape"
        }, 
        {
            "execution_count": 8, 
            "cell_type": "code", 
            "metadata": {}, 
            "outputs": [], 
            "source": "#df_data.bookingID.nunique()"
        }, 
        {
            "execution_count": 9, 
            "cell_type": "code", 
            "metadata": {}, 
            "outputs": [], 
            "source": "#df_data.info(null_counts = True)"
        }, 
        {
            "execution_count": 7, 
            "cell_type": "code", 
            "metadata": {}, 
            "outputs": [], 
            "source": "df_fin = df_data.groupby(by = ['label', 'bookingID'], as_index = False, sort = False).apply(lambda x: x.sort_values('second'))"
        }, 
        {
            "execution_count": 8, 
            "cell_type": "code", 
            "metadata": {}, 
            "outputs": [], 
            "source": "df_fin.reset_index(inplace = True)"
        }, 
        {
            "execution_count": 12, 
            "cell_type": "code", 
            "metadata": {}, 
            "outputs": [], 
            "source": "#included = ['bookingID','Accuracy','Bearing','second','Speed', 'acceleration_x', 'acceleration_y', 'acceleration_z', 'gyro_x', 'gyro_y', 'gyro_z', 'label']\n#df_fin.drop(labels = df_fin.columns.difference(included), axis = 'columns' ,inplace = True)"
        }, 
        {
            "execution_count": 13, 
            "cell_type": "code", 
            "metadata": {}, 
            "outputs": [], 
            "source": "#df_fin.head(3)"
        }, 
        {
            "execution_count": 9, 
            "cell_type": "code", 
            "metadata": {}, 
            "outputs": [], 
            "source": "df_fin.bookingID = df_fin.bookingID.astype('category')\n#df_fin.label = df_fin.label.astype('category')\n#df_fin.dtypes"
        }, 
        {
            "source": "#### Separate dataset with respect to safety ", 
            "cell_type": "markdown", 
            "metadata": {}
        }, 
        {
            "execution_count": 10, 
            "cell_type": "code", 
            "metadata": {}, 
            "outputs": [], 
            "source": "df_fin_safe = df_fin.loc[df_fin['label']==0,:]"
        }, 
        {
            "execution_count": 11, 
            "cell_type": "code", 
            "metadata": {}, 
            "outputs": [], 
            "source": "df_fin_nsafe = df_fin.loc[df_fin['label']==1,:]"
        }, 
        {
            "execution_count": 12, 
            "cell_type": "code", 
            "metadata": {
                "scrolled": true
            }, 
            "outputs": [
                {
                    "output_type": "stream", 
                    "name": "stdout", 
                    "text": " Unsafe telematics data shape: (4920014, 14) \n Safe telematics data shape: (11196690, 14)\n"
                }
            ], 
            "source": "#print(' Unsafe telematics data shape:', df_fin_nsafe.shape, '\\n', 'Safe telematics data shape:', df_fin_safe.shape)"
        }, 
        {
            "source": "### Feature engineering", 
            "cell_type": "markdown", 
            "metadata": {}
        }, 
        {
            "source": "We will enrich our labeled dataset with features that we will derive from telematics data. We will improve prediction by including (1) mean Accuracy, (2) std. dev. of Accuracy, (3) mean Speed, (4) max Speed, (5) mean longitude acceleration, (6) min longitude acceleration, (7) max longitude acceleration, (8) DSD score", 
            "cell_type": "markdown", 
            "metadata": {}
        }, 
        {
            "source": "###### DSD scoring reference:\n\nDriving Behavior and Traffic Safety: http://www.ccsenet.org/journal/index.php/mas/article/view/29037", 
            "cell_type": "markdown", 
            "metadata": {}
        }, 
        {
            "source": "##### DSD scoring\n\nWe will determine (1) longitude acceleration and (2) latitude acceleration with respect to variables: 'Speed', 'second', & 'Bearing' interactions, and proceed on scoring the booking trip", 
            "cell_type": "markdown", 
            "metadata": {}
        }, 
        {
            "execution_count": 12, 
            "cell_type": "code", 
            "metadata": {}, 
            "outputs": [], 
            "source": "#function to get change in variable\ndef getdelta(df_, column_):\n    delta = []\n    for booking in df_.loc[:,'bookingID'].unique():\n        delta.append(0)\n        temp_df = np.array(df_.loc[df_['bookingID']==booking, column_])\n        rec_count = len(temp_df)\n        for i in range(rec_count-1):\n            num = (temp_df[i+1]) - (temp_df[i])\n            delta.append(num.round(3))\n            \n    return delta"
        }, 
        {
            "execution_count": 13, 
            "cell_type": "code", 
            "metadata": {}, 
            "outputs": [], 
            "source": "#function to check if within limit area functions: A_, B_, C_, D_ \ndef isInLimits(df_, column_x = 'acceleration_lat', column_y = 'acceleration_long'):\n    results = []\n    for i in df_.index:\n        x_val = df_.loc[i, column_x]\n        y_val = df_.loc[i, column_y]\n        if ((-2.5<= x_val <= 2.5) & (-3<=y_val<=2.5)):\n            A_ = 0.509*(x_val**2)+(2.351*x_val)+2.841\n            B_ = 0.509*(x_val**2)-(2.351*x_val)+2.841\n            C_ = 0.446*(x_val**2)+(2.395*x_val)-3.349\n            D_ = 0.446*(x_val**2)-(2.395*x_val)-3.349\n            if (y_val<=A_) & (y_val<=B_) & (y_val>=C_) & (y_val>=D_):\n                results.append(1)\n            else:\n                results.append(0)\n        else:\n            results.append(0)\n    return results"
        }, 
        {
            "execution_count": 14, 
            "cell_type": "code", 
            "metadata": {}, 
            "outputs": [
                {
                    "output_type": "stream", 
                    "name": "stderr", 
                    "text": "/opt/conda/envs/Python36/lib/python3.6/site-packages/ipykernel/__main__.py:2: SettingWithCopyWarning: \nA value is trying to be set on a copy of a slice from a DataFrame.\nTry using .loc[row_indexer,col_indexer] = value instead\n\nSee the caveats in the documentation: http://pandas.pydata.org/pandas-docs/stable/indexing.html#indexing-view-versus-copy\n  from ipykernel import kernelapp as app\n/opt/conda/envs/Python36/lib/python3.6/site-packages/pandas/core/indexing.py:543: SettingWithCopyWarning: \nA value is trying to be set on a copy of a slice from a DataFrame.\nTry using .loc[row_indexer,col_indexer] = value instead\n\nSee the caveats in the documentation: http://pandas.pydata.org/pandas-docs/stable/indexing.html#indexing-view-versus-copy\n  self.obj[item] = s\n/opt/conda/envs/Python36/lib/python3.6/site-packages/ipykernel/__main__.py:4: SettingWithCopyWarning: \nA value is trying to be set on a copy of a slice from a DataFrame.\nTry using .loc[row_indexer,col_indexer] = value instead\n\nSee the caveats in the documentation: http://pandas.pydata.org/pandas-docs/stable/indexing.html#indexing-view-versus-copy\n/opt/conda/envs/Python36/lib/python3.6/site-packages/ipykernel/__main__.py:6: SettingWithCopyWarning: \nA value is trying to be set on a copy of a slice from a DataFrame.\nTry using .loc[row_indexer,col_indexer] = value instead\n\nSee the caveats in the documentation: http://pandas.pydata.org/pandas-docs/stable/indexing.html#indexing-view-versus-copy\n/opt/conda/envs/Python36/lib/python3.6/site-packages/ipykernel/__main__.py:8: SettingWithCopyWarning: \nA value is trying to be set on a copy of a slice from a DataFrame.\nTry using .loc[row_indexer,col_indexer] = value instead\n\nSee the caveats in the documentation: http://pandas.pydata.org/pandas-docs/stable/indexing.html#indexing-view-versus-copy\n/opt/conda/envs/Python36/lib/python3.6/site-packages/ipykernel/__main__.py:10: SettingWithCopyWarning: \nA value is trying to be set on a copy of a slice from a DataFrame.\nTry using .loc[row_indexer,col_indexer] = value instead\n\nSee the caveats in the documentation: http://pandas.pydata.org/pandas-docs/stable/indexing.html#indexing-view-versus-copy\n/opt/conda/envs/Python36/lib/python3.6/site-packages/ipykernel/__main__.py:12: SettingWithCopyWarning: \nA value is trying to be set on a copy of a slice from a DataFrame.\nTry using .loc[row_indexer,col_indexer] = value instead\n\nSee the caveats in the documentation: http://pandas.pydata.org/pandas-docs/stable/indexing.html#indexing-view-versus-copy\n/opt/conda/envs/Python36/lib/python3.6/site-packages/ipykernel/__main__.py:15: SettingWithCopyWarning: \nA value is trying to be set on a copy of a slice from a DataFrame.\nTry using .loc[row_indexer,col_indexer] = value instead\n\nSee the caveats in the documentation: http://pandas.pydata.org/pandas-docs/stable/indexing.html#indexing-view-versus-copy\n/opt/conda/envs/Python36/lib/python3.6/site-packages/ipykernel/__main__.py:17: SettingWithCopyWarning: \nA value is trying to be set on a copy of a slice from a DataFrame.\nTry using .loc[row_indexer,col_indexer] = value instead\n\nSee the caveats in the documentation: http://pandas.pydata.org/pandas-docs/stable/indexing.html#indexing-view-versus-copy\n/opt/conda/envs/Python36/lib/python3.6/site-packages/ipykernel/__main__.py:19: SettingWithCopyWarning: \nA value is trying to be set on a copy of a slice from a DataFrame.\nTry using .loc[row_indexer,col_indexer] = value instead\n\nSee the caveats in the documentation: http://pandas.pydata.org/pandas-docs/stable/indexing.html#indexing-view-versus-copy\n/opt/conda/envs/Python36/lib/python3.6/site-packages/ipykernel/__main__.py:21: SettingWithCopyWarning: \nA value is trying to be set on a copy of a slice from a DataFrame.\nTry using .loc[row_indexer,col_indexer] = value instead\n\nSee the caveats in the documentation: http://pandas.pydata.org/pandas-docs/stable/indexing.html#indexing-view-versus-copy\n/opt/conda/envs/Python36/lib/python3.6/site-packages/ipykernel/__main__.py:23: SettingWithCopyWarning: \nA value is trying to be set on a copy of a slice from a DataFrame.\nTry using .loc[row_indexer,col_indexer] = value instead\n\nSee the caveats in the documentation: http://pandas.pydata.org/pandas-docs/stable/indexing.html#indexing-view-versus-copy\n/opt/conda/envs/Python36/lib/python3.6/site-packages/ipykernel/__main__.py:25: SettingWithCopyWarning: \nA value is trying to be set on a copy of a slice from a DataFrame.\nTry using .loc[row_indexer,col_indexer] = value instead\n\nSee the caveats in the documentation: http://pandas.pydata.org/pandas-docs/stable/indexing.html#indexing-view-versus-copy\n"
                }
            ], 
            "source": "#define variables that can derive interactions\ndf_fin_nsafe['delta_second'] = np.nan\ndf_fin_nsafe.loc[:,'delta_second'] = getdelta(df_fin_nsafe.loc[:,:], 'second')\ndf_fin_nsafe['delta_bearing'] = np.nan\ndf_fin_nsafe.loc[:,'delta_bearing'] = getdelta(df_fin_nsafe.loc[:,:], 'Bearing')\ndf_fin_nsafe['acceleration_long'] = np.nan\ndf_fin_nsafe.loc[:,'acceleration_long'] = getdelta(df_fin_nsafe.loc[:,:], 'Speed')/df_fin_nsafe.loc[:,'delta_second']\ndf_fin_nsafe['acceleration_lat'] = np.nan\ndf_fin_nsafe.loc[:,'acceleration_lat'] = (df_fin_nsafe.loc[:,'Speed']**2)/((180*df_fin_nsafe.loc[:,'Speed'])/(np.pi*df_fin_nsafe.loc[:,'delta_bearing']))\ndf_fin_nsafe['accelerometer'] = np.nan\ndf_fin_nsafe.loc[:,'accelerometer'] = np.sqrt((df_fin_nsafe.loc[:, 'acceleration_x']**2)+(df_fin_nsafe.loc[:, 'acceleration_y']**2)+(df_fin_nsafe.loc[:, 'acceleration_z']**2))\ndf_fin_nsafe['gyroscope'] = np.nan\ndf_fin_nsafe.loc[:,'gyroscope'] = np.sqrt((df_fin_nsafe.loc[:, 'gyro_x']**2)+(df_fin_nsafe.loc[:, 'gyro_y']**2)+(df_fin_nsafe.loc[:, 'gyro_z']**2))\n\ndf_fin_safe['delta_second'] = np.nan\ndf_fin_safe.loc[:,'delta_second'] = getdelta(df_fin_safe.loc[:,:], 'second')\ndf_fin_safe['delta_bearing'] =np.nan\ndf_fin_safe.loc[:,'delta_bearing'] = getdelta(df_fin_safe.loc[:,:], 'Bearing')\ndf_fin_safe['acceleration_long'] = np.nan\ndf_fin_safe.loc[:,'acceleration_long'] = getdelta(df_fin_safe.loc[:,:], 'Speed')/df_fin_safe.loc[:,'delta_second']\ndf_fin_safe['acceleration_lat'] = np.nan\ndf_fin_safe.loc[:,'acceleration_lat'] = (df_fin_safe.loc[:,'Speed']**2)/((180*df_fin_safe.loc[:,'Speed'])/(np.pi*df_fin_safe.loc[:,'delta_bearing']))\ndf_fin_safe['accelerometer'] = np.nan\ndf_fin_safe.loc[:,'accelerometer'] = np.sqrt((df_fin_safe.loc[:, 'acceleration_x']**2)+(df_fin_safe.loc[:, 'acceleration_y']**2)+(df_fin_safe.loc[:, 'acceleration_z']**2))\ndf_fin_safe['gyroscope'] = np.nan\ndf_fin_safe.loc[:,'gyroscope'] = np.sqrt((df_fin_safe.loc[:, 'gyro_x']**2)+(df_fin_safe.loc[:, 'gyro_y']**2)+(df_fin_safe.loc[:, 'gyro_z']**2))"
        }, 
        {
            "execution_count": 15, 
            "cell_type": "code", 
            "metadata": {}, 
            "outputs": [
                {
                    "output_type": "stream", 
                    "name": "stderr", 
                    "text": "/opt/conda/envs/Python36/lib/python3.6/site-packages/pandas/core/frame.py:4034: SettingWithCopyWarning: \nA value is trying to be set on a copy of a slice from a DataFrame\n\nSee the caveats in the documentation: http://pandas.pydata.org/pandas-docs/stable/indexing.html#indexing-view-versus-copy\n  downcast=downcast, **kwargs)\n"
                }
            ], 
            "source": "#replace null values with 0 - this will replace latitude accelerations that suggests the car is moving straight, therefore 0 latitude acceleration\ndf_fin_nsafe.loc[:,:].fillna(0, inplace = True)\ndf_fin_safe.loc[:,:].fillna(0, inplace = True)"
        }, 
        {
            "execution_count": 16, 
            "cell_type": "code", 
            "metadata": {}, 
            "outputs": [], 
            "source": "sample_speed_mean = (df_fin_nsafe.loc[:,'Speed'].mean() + df_fin_safe.loc[:,'Speed'].mean())/2\nsample_accelerometer_mean = (df_fin_nsafe.loc[:,'accelerometer'].mean() + df_fin_safe.loc[:,'accelerometer'].mean())/2\nsample_gyro_mean = (df_fin_nsafe.loc[:,'gyroscope'].mean() + df_fin_safe.loc[:,'gyroscope'].mean())/2"
        }, 
        {
            "execution_count": 17, 
            "cell_type": "code", 
            "metadata": {}, 
            "outputs": [
                {
                    "output_type": "stream", 
                    "name": "stderr", 
                    "text": "/opt/conda/envs/Python36/lib/python3.6/site-packages/ipykernel/__main__.py:2: SettingWithCopyWarning: \nA value is trying to be set on a copy of a slice from a DataFrame.\nTry using .loc[row_indexer,col_indexer] = value instead\n\nSee the caveats in the documentation: http://pandas.pydata.org/pandas-docs/stable/indexing.html#indexing-view-versus-copy\n  from ipykernel import kernelapp as app\n/opt/conda/envs/Python36/lib/python3.6/site-packages/ipykernel/__main__.py:4: SettingWithCopyWarning: \nA value is trying to be set on a copy of a slice from a DataFrame.\nTry using .loc[row_indexer,col_indexer] = value instead\n\nSee the caveats in the documentation: http://pandas.pydata.org/pandas-docs/stable/indexing.html#indexing-view-versus-copy\n/opt/conda/envs/Python36/lib/python3.6/site-packages/ipykernel/__main__.py:6: SettingWithCopyWarning: \nA value is trying to be set on a copy of a slice from a DataFrame.\nTry using .loc[row_indexer,col_indexer] = value instead\n\nSee the caveats in the documentation: http://pandas.pydata.org/pandas-docs/stable/indexing.html#indexing-view-versus-copy\n/opt/conda/envs/Python36/lib/python3.6/site-packages/ipykernel/__main__.py:8: SettingWithCopyWarning: \nA value is trying to be set on a copy of a slice from a DataFrame.\nTry using .loc[row_indexer,col_indexer] = value instead\n\nSee the caveats in the documentation: http://pandas.pydata.org/pandas-docs/stable/indexing.html#indexing-view-versus-copy\n/opt/conda/envs/Python36/lib/python3.6/site-packages/ipykernel/__main__.py:11: SettingWithCopyWarning: \nA value is trying to be set on a copy of a slice from a DataFrame.\nTry using .loc[row_indexer,col_indexer] = value instead\n\nSee the caveats in the documentation: http://pandas.pydata.org/pandas-docs/stable/indexing.html#indexing-view-versus-copy\n/opt/conda/envs/Python36/lib/python3.6/site-packages/ipykernel/__main__.py:13: SettingWithCopyWarning: \nA value is trying to be set on a copy of a slice from a DataFrame.\nTry using .loc[row_indexer,col_indexer] = value instead\n\nSee the caveats in the documentation: http://pandas.pydata.org/pandas-docs/stable/indexing.html#indexing-view-versus-copy\n/opt/conda/envs/Python36/lib/python3.6/site-packages/ipykernel/__main__.py:15: SettingWithCopyWarning: \nA value is trying to be set on a copy of a slice from a DataFrame.\nTry using .loc[row_indexer,col_indexer] = value instead\n\nSee the caveats in the documentation: http://pandas.pydata.org/pandas-docs/stable/indexing.html#indexing-view-versus-copy\n/opt/conda/envs/Python36/lib/python3.6/site-packages/ipykernel/__main__.py:17: SettingWithCopyWarning: \nA value is trying to be set on a copy of a slice from a DataFrame.\nTry using .loc[row_indexer,col_indexer] = value instead\n\nSee the caveats in the documentation: http://pandas.pydata.org/pandas-docs/stable/indexing.html#indexing-view-versus-copy\n"
                }
            ], 
            "source": "#check telematics data if its within safe area function, set records to 1 if latitude/longitude acceleration within limits\ndf_fin_nsafe['within_limits'] = np.nan\ndf_fin_nsafe.loc[:,'within_limits'] = isInLimits(df_fin_nsafe.loc[:,:])\ndf_fin_nsafe['below_speed_mean'] = np.nan\ndf_fin_nsafe.loc[:,'below_speed_mean'] = (df_fin_nsafe.loc[:,'Speed']<sample_speed_mean).astype('int')\ndf_fin_nsafe['below_accelerometer_mean'] = np.nan\ndf_fin_nsafe.loc[:,'below_accelerometer_mean'] = (df_fin_nsafe.loc[:,'accelerometer']<sample_accelerometer_mean).astype('int')\ndf_fin_nsafe['below_gyroscope_mean'] = np.nan\ndf_fin_nsafe.loc[:,'below_gyroscope_mean'] = (df_fin_nsafe.loc[:,'gyroscope']<sample_gyro_mean).astype('int')\n\ndf_fin_safe['within_limits'] = np.nan\ndf_fin_safe.loc[:,'within_limits'] = isInLimits(df_fin_safe.loc[:,:])\ndf_fin_safe['below_speed_mean'] = np.nan\ndf_fin_safe.loc[:,'below_speed_mean'] = (df_fin_safe.loc[:,'Speed']<sample_speed_mean).astype('int')\ndf_fin_safe['below_accelerometer_mean'] = np.nan\ndf_fin_safe.loc[:,'below_accelerometer_mean'] = (df_fin_safe.loc[:,'accelerometer']<sample_accelerometer_mean).astype('int')\ndf_fin_safe['below_gyroscope_mean'] = np.nan\ndf_fin_safe.loc[:,'below_gyroscope_mean'] = (df_fin_safe.loc[:,'gyroscope']<sample_gyro_mean).astype('int')"
        }, 
        {
            "execution_count": 18, 
            "cell_type": "code", 
            "metadata": {}, 
            "outputs": [], 
            "source": "#df_fin_safe.isna().sum()"
        }, 
        {
            "execution_count": 20, 
            "cell_type": "code", 
            "metadata": {}, 
            "outputs": [
                {
                    "execution_count": 20, 
                    "metadata": {}, 
                    "data": {
                        "text/html": "<div>\n<style scoped>\n    .dataframe tbody tr th:only-of-type {\n        vertical-align: middle;\n    }\n\n    .dataframe tbody tr th {\n        vertical-align: top;\n    }\n\n    .dataframe thead th {\n        text-align: right;\n    }\n</style>\n<table border=\"1\" class=\"dataframe\">\n  <thead>\n    <tr style=\"text-align: right;\">\n      <th></th>\n      <th>level_0</th>\n      <th>level_1</th>\n      <th>bookingID</th>\n      <th>Accuracy</th>\n      <th>Bearing</th>\n      <th>acceleration_x</th>\n      <th>acceleration_y</th>\n      <th>acceleration_z</th>\n      <th>gyro_x</th>\n      <th>gyro_y</th>\n      <th>...</th>\n      <th>delta_second</th>\n      <th>delta_bearing</th>\n      <th>acceleration_long</th>\n      <th>acceleration_lat</th>\n      <th>accelerometer</th>\n      <th>gyroscope</th>\n      <th>within_limits</th>\n      <th>below_speed_mean</th>\n      <th>below_accelerometer_mean</th>\n      <th>below_gyroscope_mean</th>\n    </tr>\n  </thead>\n  <tbody>\n    <tr>\n      <th>0</th>\n      <td>0</td>\n      <td>251</td>\n      <td>1202590843006</td>\n      <td>3.024</td>\n      <td>316.0</td>\n      <td>1.438092</td>\n      <td>9.016305</td>\n      <td>3.961360</td>\n      <td>0.014591</td>\n      <td>0.007051</td>\n      <td>...</td>\n      <td>0.0</td>\n      <td>0.0</td>\n      <td>0.0</td>\n      <td>0.0</td>\n      <td>9.952599</td>\n      <td>0.017729</td>\n      <td>1</td>\n      <td>1</td>\n      <td>0</td>\n      <td>1</td>\n    </tr>\n    <tr>\n      <th>1</th>\n      <td>0</td>\n      <td>1012</td>\n      <td>1202590843006</td>\n      <td>3.022</td>\n      <td>316.0</td>\n      <td>1.164760</td>\n      <td>8.577515</td>\n      <td>3.941843</td>\n      <td>0.007924</td>\n      <td>-0.011746</td>\n      <td>...</td>\n      <td>1.0</td>\n      <td>0.0</td>\n      <td>0.0</td>\n      <td>0.0</td>\n      <td>9.511496</td>\n      <td>0.020973</td>\n      <td>1</td>\n      <td>1</td>\n      <td>1</td>\n      <td>1</td>\n    </tr>\n    <tr>\n      <th>2</th>\n      <td>0</td>\n      <td>398</td>\n      <td>1202590843006</td>\n      <td>3.019</td>\n      <td>316.0</td>\n      <td>1.168935</td>\n      <td>8.514557</td>\n      <td>3.600678</td>\n      <td>0.439840</td>\n      <td>-0.056287</td>\n      <td>...</td>\n      <td>1.0</td>\n      <td>0.0</td>\n      <td>0.0</td>\n      <td>0.0</td>\n      <td>9.318207</td>\n      <td>0.448138</td>\n      <td>1</td>\n      <td>1</td>\n      <td>1</td>\n      <td>0</td>\n    </tr>\n    <tr>\n      <th>3</th>\n      <td>0</td>\n      <td>925</td>\n      <td>1202590843006</td>\n      <td>3.018</td>\n      <td>316.0</td>\n      <td>1.504823</td>\n      <td>8.948865</td>\n      <td>3.965516</td>\n      <td>-0.010978</td>\n      <td>0.010629</td>\n      <td>...</td>\n      <td>1.0</td>\n      <td>0.0</td>\n      <td>0.0</td>\n      <td>0.0</td>\n      <td>9.903131</td>\n      <td>0.015461</td>\n      <td>1</td>\n      <td>1</td>\n      <td>0</td>\n      <td>1</td>\n    </tr>\n    <tr>\n      <th>4</th>\n      <td>0</td>\n      <td>966</td>\n      <td>1202590843006</td>\n      <td>3.017</td>\n      <td>316.0</td>\n      <td>1.405559</td>\n      <td>9.003942</td>\n      <td>3.923254</td>\n      <td>0.015446</td>\n      <td>-0.005725</td>\n      <td>...</td>\n      <td>1.0</td>\n      <td>0.0</td>\n      <td>0.0</td>\n      <td>0.0</td>\n      <td>9.921617</td>\n      <td>0.016597</td>\n      <td>1</td>\n      <td>1</td>\n      <td>0</td>\n      <td>1</td>\n    </tr>\n  </tbody>\n</table>\n<p>5 rows \u00d7 24 columns</p>\n</div>", 
                        "text/plain": "   level_0  level_1      bookingID  Accuracy  Bearing  acceleration_x  \\\n0        0      251  1202590843006     3.024    316.0        1.438092   \n1        0     1012  1202590843006     3.022    316.0        1.164760   \n2        0      398  1202590843006     3.019    316.0        1.168935   \n3        0      925  1202590843006     3.018    316.0        1.504823   \n4        0      966  1202590843006     3.017    316.0        1.405559   \n\n   acceleration_y  acceleration_z    gyro_x    gyro_y  ...  delta_second  \\\n0        9.016305        3.961360  0.014591  0.007051  ...           0.0   \n1        8.577515        3.941843  0.007924 -0.011746  ...           1.0   \n2        8.514557        3.600678  0.439840 -0.056287  ...           1.0   \n3        8.948865        3.965516 -0.010978  0.010629  ...           1.0   \n4        9.003942        3.923254  0.015446 -0.005725  ...           1.0   \n\n   delta_bearing  acceleration_long  acceleration_lat  accelerometer  \\\n0            0.0                0.0               0.0       9.952599   \n1            0.0                0.0               0.0       9.511496   \n2            0.0                0.0               0.0       9.318207   \n3            0.0                0.0               0.0       9.903131   \n4            0.0                0.0               0.0       9.921617   \n\n   gyroscope  within_limits  below_speed_mean  below_accelerometer_mean  \\\n0   0.017729              1                 1                         0   \n1   0.020973              1                 1                         1   \n2   0.448138              1                 1                         1   \n3   0.015461              1                 1                         0   \n4   0.016597              1                 1                         0   \n\n   below_gyroscope_mean  \n0                     1  \n1                     1  \n2                     0  \n3                     1  \n4                     1  \n\n[5 rows x 24 columns]"
                    }, 
                    "output_type": "execute_result"
                }
            ], 
            "source": "df_fin_nsafe.head()"
        }, 
        {
            "execution_count": 21, 
            "cell_type": "code", 
            "metadata": {}, 
            "outputs": [
                {
                    "output_type": "stream", 
                    "name": "stderr", 
                    "text": "/opt/conda/envs/Python36/lib/python3.6/site-packages/pandas/core/groupby/generic.py:1315: FutureWarning: using a dict with renaming is deprecated and will be removed in a future version\n  return super(DataFrameGroupBy, self).aggregate(arg, *args, **kwargs)\n"
                }
            ], 
            "source": "#set as new features\ndf_features_safe = df_fin_safe.groupby('bookingID', as_index= True, sort = False).agg({'Speed': ['mean', 'max', 'std'], 'accelerometer': {'rms': lambda x: np.sqrt(x.mean()**2), 'stdev': 'std'}, 'gyroscope': {'rms': lambda x: np.sqrt(x.mean()**2), 'stdev': 'std'}, 'acceleration_long': ['mean', 'min', 'max'], 'within_limits': ['mean'], 'below_gyroscope_mean': ['mean'], 'below_accelerometer_mean':['mean'], 'below_speed_mean': ['mean'], 'Accuracy': ['mean', 'std'], 'label':['min']})\ndf_features_nsafe = df_fin_nsafe.groupby('bookingID', as_index= True, sort = False).agg({'Speed': ['mean', 'max', 'std'], 'accelerometer': {'rms': lambda x: np.sqrt(x.mean()**2), 'stdev': 'std'}, 'gyroscope': {'rms': lambda x: np.sqrt(x.mean()**2), 'stdev': 'std'}, 'acceleration_long': ['mean', 'min', 'max'], 'within_limits': ['mean'], 'below_gyroscope_mean': ['mean'], 'below_accelerometer_mean':['mean'], 'below_speed_mean': ['mean'], 'Accuracy': ['mean', 'std'], 'label':['min']})"
        }, 
        {
            "execution_count": 22, 
            "cell_type": "code", 
            "metadata": {}, 
            "outputs": [], 
            "source": "df_features_nsafe.dropna(inplace = True)\ndf_features_safe.dropna(inplace = True)"
        }, 
        {
            "execution_count": 23, 
            "cell_type": "code", 
            "metadata": {}, 
            "outputs": [], 
            "source": "df = pd.concat([df_features_safe, df_features_nsafe])"
        }, 
        {
            "execution_count": 25, 
            "cell_type": "code", 
            "metadata": {}, 
            "outputs": [], 
            "source": "new_cols = []\nfor i in df.columns:\n    if i[0] == 'within_limits':\n        new_cols.append('dsd_score')\n    elif i[0] == 'label':\n        new_cols.append('label')\n    else:\n        new_cols.append(i[0]+'_'+i[1])\n#print(new_cols)"
        }, 
        {
            "execution_count": 26, 
            "cell_type": "code", 
            "metadata": {}, 
            "outputs": [], 
            "source": "#tidying dataframes\ndf.columns.droplevel(0)\ndf.columns = new_cols\n\n#df.head()"
        }, 
        {
            "execution_count": 128, 
            "cell_type": "code", 
            "metadata": {}, 
            "outputs": [], 
            "source": "#Formatiing DSD score\ndf.dsd_score = 1-df.dsd_score"
        }, 
        {
            "execution_count": 129, 
            "cell_type": "code", 
            "metadata": {}, 
            "outputs": [
                {
                    "execution_count": 129, 
                    "metadata": {}, 
                    "data": {
                        "text/html": "<div>\n<style scoped>\n    .dataframe tbody tr th:only-of-type {\n        vertical-align: middle;\n    }\n\n    .dataframe tbody tr th {\n        vertical-align: top;\n    }\n\n    .dataframe thead th {\n        text-align: right;\n    }\n</style>\n<table border=\"1\" class=\"dataframe\">\n  <thead>\n    <tr style=\"text-align: right;\">\n      <th></th>\n      <th>Speed_mean</th>\n      <th>Speed_max</th>\n      <th>Speed_std</th>\n      <th>accelerometer_rms</th>\n      <th>accelerometer_stdev</th>\n      <th>gyroscope_rms</th>\n      <th>gyroscope_stdev</th>\n      <th>acceleration_long_mean</th>\n      <th>acceleration_long_min</th>\n      <th>acceleration_long_max</th>\n      <th>dsd_score</th>\n      <th>below_gyroscope_mean_mean</th>\n      <th>below_accelerometer_mean_mean</th>\n      <th>below_speed_mean_mean</th>\n      <th>Accuracy_mean</th>\n      <th>Accuracy_std</th>\n      <th>label</th>\n    </tr>\n    <tr>\n      <th>bookingID</th>\n      <th></th>\n      <th></th>\n      <th></th>\n      <th></th>\n      <th></th>\n      <th></th>\n      <th></th>\n      <th></th>\n      <th></th>\n      <th></th>\n      <th></th>\n      <th></th>\n      <th></th>\n      <th></th>\n      <th></th>\n      <th></th>\n      <th></th>\n    </tr>\n  </thead>\n  <tbody>\n    <tr>\n      <th>1073741824054</th>\n      <td>6.684724</td>\n      <td>19.299793</td>\n      <td>5.826049</td>\n      <td>9.895514</td>\n      <td>0.704901</td>\n      <td>0.113831</td>\n      <td>0.132420</td>\n      <td>-0.005870</td>\n      <td>-2.965</td>\n      <td>2.268</td>\n      <td>0.087165</td>\n      <td>0.713602</td>\n      <td>0.617816</td>\n      <td>0.661877</td>\n      <td>3.598824</td>\n      <td>0.424268</td>\n      <td>0.0</td>\n    </tr>\n    <tr>\n      <th>1185410973787</th>\n      <td>9.671239</td>\n      <td>29.310000</td>\n      <td>7.931706</td>\n      <td>10.002434</td>\n      <td>0.744685</td>\n      <td>0.123815</td>\n      <td>0.126956</td>\n      <td>-0.011346</td>\n      <td>-30.100</td>\n      <td>5.030</td>\n      <td>0.147378</td>\n      <td>0.679928</td>\n      <td>0.445750</td>\n      <td>0.520796</td>\n      <td>7.088677</td>\n      <td>27.057858</td>\n      <td>0.0</td>\n    </tr>\n    <tr>\n      <th>163208757379</th>\n      <td>4.067107</td>\n      <td>17.170000</td>\n      <td>5.134114</td>\n      <td>9.690538</td>\n      <td>0.381937</td>\n      <td>0.097803</td>\n      <td>0.090960</td>\n      <td>0.008301</td>\n      <td>-4.911</td>\n      <td>3.520</td>\n      <td>0.097054</td>\n      <td>0.826690</td>\n      <td>0.849220</td>\n      <td>0.840555</td>\n      <td>42.344887</td>\n      <td>55.522868</td>\n      <td>0.0</td>\n    </tr>\n    <tr>\n      <th>884763262976</th>\n      <td>5.675100</td>\n      <td>18.217026</td>\n      <td>5.956288</td>\n      <td>9.984137</td>\n      <td>0.693042</td>\n      <td>0.143935</td>\n      <td>0.162697</td>\n      <td>-0.005857</td>\n      <td>-11.895</td>\n      <td>13.399</td>\n      <td>0.054181</td>\n      <td>0.594817</td>\n      <td>0.342756</td>\n      <td>0.669022</td>\n      <td>5.535051</td>\n      <td>2.984581</td>\n      <td>0.0</td>\n    </tr>\n    <tr>\n      <th>300647710810</th>\n      <td>11.943424</td>\n      <td>27.638723</td>\n      <td>9.480232</td>\n      <td>9.854845</td>\n      <td>0.572453</td>\n      <td>0.129127</td>\n      <td>0.114495</td>\n      <td>-0.016612</td>\n      <td>-10.153</td>\n      <td>8.287</td>\n      <td>0.083391</td>\n      <td>0.671994</td>\n      <td>0.568450</td>\n      <td>0.431550</td>\n      <td>4.473469</td>\n      <td>1.297247</td>\n      <td>0.0</td>\n    </tr>\n  </tbody>\n</table>\n</div>", 
                        "text/plain": "               Speed_mean  Speed_max  Speed_std  accelerometer_rms  \\\nbookingID                                                            \n1073741824054    6.684724  19.299793   5.826049           9.895514   \n1185410973787    9.671239  29.310000   7.931706          10.002434   \n163208757379     4.067107  17.170000   5.134114           9.690538   \n884763262976     5.675100  18.217026   5.956288           9.984137   \n300647710810    11.943424  27.638723   9.480232           9.854845   \n\n               accelerometer_stdev  gyroscope_rms  gyroscope_stdev  \\\nbookingID                                                            \n1073741824054             0.704901       0.113831         0.132420   \n1185410973787             0.744685       0.123815         0.126956   \n163208757379              0.381937       0.097803         0.090960   \n884763262976              0.693042       0.143935         0.162697   \n300647710810              0.572453       0.129127         0.114495   \n\n               acceleration_long_mean  acceleration_long_min  \\\nbookingID                                                      \n1073741824054               -0.005870                 -2.965   \n1185410973787               -0.011346                -30.100   \n163208757379                 0.008301                 -4.911   \n884763262976                -0.005857                -11.895   \n300647710810                -0.016612                -10.153   \n\n               acceleration_long_max  dsd_score  below_gyroscope_mean_mean  \\\nbookingID                                                                    \n1073741824054                  2.268   0.087165                   0.713602   \n1185410973787                  5.030   0.147378                   0.679928   \n163208757379                   3.520   0.097054                   0.826690   \n884763262976                  13.399   0.054181                   0.594817   \n300647710810                   8.287   0.083391                   0.671994   \n\n               below_accelerometer_mean_mean  below_speed_mean_mean  \\\nbookingID                                                             \n1073741824054                       0.617816               0.661877   \n1185410973787                       0.445750               0.520796   \n163208757379                        0.849220               0.840555   \n884763262976                        0.342756               0.669022   \n300647710810                        0.568450               0.431550   \n\n               Accuracy_mean  Accuracy_std label  \nbookingID                                         \n1073741824054       3.598824      0.424268   0.0  \n1185410973787       7.088677     27.057858   0.0  \n163208757379       42.344887     55.522868   0.0  \n884763262976        5.535051      2.984581   0.0  \n300647710810        4.473469      1.297247   0.0  "
                    }, 
                    "output_type": "execute_result"
                }
            ], 
            "source": "df.head()"
        }, 
        {
            "source": "#### Binning and One hot encoding", 
            "cell_type": "markdown", 
            "metadata": {}
        }, 
        {
            "execution_count": null, 
            "cell_type": "code", 
            "metadata": {}, 
            "outputs": [], 
            "source": "#define bin intervals\nSpeed_bin = pd.IntervalIndex.from_tuples([(df.Speed_max.min()-1,2.2352),(2.2352,6.7056),(6.7056,13.4112),(13.4112,17.8816),(17.8816,df.Speed_max.max()+1)])\nAcceleration_bin = pd.IntervalIndex.from_tuples([(df.acceleration_long_min.min()-1,-3.1),(-3.1,2.6),(2.6,df.acceleration_long_max.max()+1)])\ndsd_score_bin = pd.IntervalIndex.from_tuples([(df.dsd_score.min()-0.1,0.09),(0.09, df.dsd_score.max()+0.1)])"
        }, 
        {
            "execution_count": null, 
            "cell_type": "code", 
            "metadata": {}, 
            "outputs": [], 
            "source": "#Binning the following variables\ndf['Speed_mean_bin'] = pd.cut(df.loc[:,'Speed_mean'], bins = Speed_bin, labels = (range(1,len(Speed_bin)-1)))\ndf['Speed_max_bin'] = pd.cut(df.loc[:,'Speed_max'], bins = Speed_bin, labels = (range(1,len(Speed_bin)-1)))\ndf['acceleration_mean_bin'] = pd.cut(df.loc[:,'acceleration_long_mean'], bins = Acceleration_bin, labels = (range(1,len(Acceleration_bin)-1)))\ndf['acceleration_min_bin'] = pd.cut(df.loc[:,'acceleration_long_min'], bins = Acceleration_bin, labels = (range(1,len(Acceleration_bin)-1)))\ndf['acceleration_max_bin'] = pd.cut(df.loc[:,'acceleration_long_max'], bins = Acceleration_bin, labels = (range(1,len(Acceleration_bin)-1)))\ndf['dsd_score_bin'] = pd.cut(df.loc[:,'dsd_score'], bins = dsd_score_bin, labels = [0,1])"
        }, 
        {
            "execution_count": null, 
            "cell_type": "code", 
            "metadata": {}, 
            "outputs": [], 
            "source": "#Applying one hot encoding\nohe = pd.get_dummies(df.loc[:, ['Speed_mean_bin','Speed_max_bin','dsd_score_bin','acceleration_mean_bin','acceleration_min_bin','acceleration_max_bin']])"
        }, 
        {
            "execution_count": null, 
            "cell_type": "code", 
            "metadata": {}, 
            "outputs": [], 
            "source": "ohe.drop(columns = 'dsd_score_bin_(-0.1, 0.09]', inplace = True)\n#ohe.head()"
        }, 
        {
            "execution_count": null, 
            "cell_type": "code", 
            "metadata": {}, 
            "outputs": [], 
            "source": "df = pd.concat([df,ohe], axis=1)\n#df.head()"
        }, 
        {
            "execution_count": null, 
            "cell_type": "code", 
            "metadata": {}, 
            "outputs": [], 
            "source": "import re\ndf_cols = []\nfor i,col in enumerate(df.columns, start = 1):\n    #print(col)\n    df_cols.append(re.sub(r\"\\(.*]$\", str(i), col))"
        }, 
        {
            "execution_count": null, 
            "cell_type": "code", 
            "metadata": {}, 
            "outputs": [], 
            "source": "df.columns = df_cols"
        }, 
        {
            "execution_count": 149, 
            "cell_type": "code", 
            "metadata": {}, 
            "outputs": [], 
            "source": "from sklearn.preprocessing import StandardScaler\nscaler = StandardScaler()"
        }, 
        {
            "execution_count": 150, 
            "cell_type": "code", 
            "metadata": {}, 
            "outputs": [], 
            "source": "df.loc[:,df.columns.difference(['label','dsd_score', 'below_gyroscope_mean_mean', 'below_accelerometer_mean_mean', 'below_speed_mean_mean'])] = scaler.fit_transform(df.loc[:, df.columns.difference(['label','dsd_score', 'below_gyroscope_mean_mean', 'below_accelerometer_mean_mean', 'below_speed_mean_mean'])])"
        }, 
        {
            "execution_count": 151, 
            "cell_type": "code", 
            "metadata": {}, 
            "outputs": [
                {
                    "execution_count": 151, 
                    "metadata": {}, 
                    "data": {
                        "text/html": "<div>\n<style scoped>\n    .dataframe tbody tr th:only-of-type {\n        vertical-align: middle;\n    }\n\n    .dataframe tbody tr th {\n        vertical-align: top;\n    }\n\n    .dataframe thead th {\n        text-align: right;\n    }\n</style>\n<table border=\"1\" class=\"dataframe\">\n  <thead>\n    <tr style=\"text-align: right;\">\n      <th></th>\n      <th>Speed_mean</th>\n      <th>Speed_max</th>\n      <th>Speed_std</th>\n      <th>accelerometer_rms</th>\n      <th>accelerometer_stdev</th>\n      <th>gyroscope_rms</th>\n      <th>gyroscope_stdev</th>\n      <th>acceleration_long_mean</th>\n      <th>acceleration_long_min</th>\n      <th>acceleration_long_max</th>\n      <th>dsd_score</th>\n      <th>below_gyroscope_mean_mean</th>\n      <th>below_accelerometer_mean_mean</th>\n      <th>below_speed_mean_mean</th>\n      <th>Accuracy_mean</th>\n      <th>Accuracy_std</th>\n      <th>label</th>\n    </tr>\n    <tr>\n      <th>bookingID</th>\n      <th></th>\n      <th></th>\n      <th></th>\n      <th></th>\n      <th></th>\n      <th></th>\n      <th></th>\n      <th></th>\n      <th></th>\n      <th></th>\n      <th></th>\n      <th></th>\n      <th></th>\n      <th></th>\n      <th></th>\n      <th></th>\n      <th></th>\n    </tr>\n  </thead>\n  <tbody>\n    <tr>\n      <th>1073741824054</th>\n      <td>-0.405845</td>\n      <td>-0.312805</td>\n      <td>-0.234141</td>\n      <td>0.015162</td>\n      <td>0.035154</td>\n      <td>-0.072111</td>\n      <td>-0.092967</td>\n      <td>-0.236510</td>\n      <td>0.649702</td>\n      <td>-0.718885</td>\n      <td>0.087165</td>\n      <td>0.713602</td>\n      <td>0.617816</td>\n      <td>0.661877</td>\n      <td>-0.179569</td>\n      <td>-0.209608</td>\n      <td>0.0</td>\n    </tr>\n    <tr>\n      <th>1185410973787</th>\n      <td>0.289790</td>\n      <td>1.570565</td>\n      <td>0.877306</td>\n      <td>0.121670</td>\n      <td>0.129945</td>\n      <td>-0.023846</td>\n      <td>-0.115684</td>\n      <td>-0.456249</td>\n      <td>-3.386541</td>\n      <td>-0.276225</td>\n      <td>0.147378</td>\n      <td>0.679928</td>\n      <td>0.445750</td>\n      <td>0.520796</td>\n      <td>-0.089743</td>\n      <td>0.208117</td>\n      <td>0.0</td>\n    </tr>\n    <tr>\n      <th>163208757379</th>\n      <td>-1.015555</td>\n      <td>-0.713515</td>\n      <td>-0.599370</td>\n      <td>-0.189025</td>\n      <td>-0.734366</td>\n      <td>-0.149595</td>\n      <td>-0.265352</td>\n      <td>0.332172</td>\n      <td>0.360240</td>\n      <td>-0.518229</td>\n      <td>0.097054</td>\n      <td>0.826690</td>\n      <td>0.849220</td>\n      <td>0.840555</td>\n      <td>0.817729</td>\n      <td>0.654567</td>\n      <td>0.0</td>\n    </tr>\n    <tr>\n      <th>884763262976</th>\n      <td>-0.641012</td>\n      <td>-0.516522</td>\n      <td>-0.165395</td>\n      <td>0.103443</td>\n      <td>0.006897</td>\n      <td>0.073421</td>\n      <td>0.032920</td>\n      <td>-0.235976</td>\n      <td>-0.678607</td>\n      <td>1.065057</td>\n      <td>0.054181</td>\n      <td>0.594817</td>\n      <td>0.342756</td>\n      <td>0.669022</td>\n      <td>-0.129732</td>\n      <td>-0.169451</td>\n      <td>0.0</td>\n    </tr>\n    <tr>\n      <th>300647710810</th>\n      <td>0.819040</td>\n      <td>1.256122</td>\n      <td>1.694677</td>\n      <td>-0.025351</td>\n      <td>-0.280428</td>\n      <td>0.001832</td>\n      <td>-0.167496</td>\n      <td>-0.667545</td>\n      <td>-0.419490</td>\n      <td>0.245768</td>\n      <td>0.083391</td>\n      <td>0.671994</td>\n      <td>0.568450</td>\n      <td>0.431550</td>\n      <td>-0.157056</td>\n      <td>-0.195916</td>\n      <td>0.0</td>\n    </tr>\n  </tbody>\n</table>\n</div>", 
                        "text/plain": "               Speed_mean  Speed_max  Speed_std  accelerometer_rms  \\\nbookingID                                                            \n1073741824054   -0.405845  -0.312805  -0.234141           0.015162   \n1185410973787    0.289790   1.570565   0.877306           0.121670   \n163208757379    -1.015555  -0.713515  -0.599370          -0.189025   \n884763262976    -0.641012  -0.516522  -0.165395           0.103443   \n300647710810     0.819040   1.256122   1.694677          -0.025351   \n\n               accelerometer_stdev  gyroscope_rms  gyroscope_stdev  \\\nbookingID                                                            \n1073741824054             0.035154      -0.072111        -0.092967   \n1185410973787             0.129945      -0.023846        -0.115684   \n163208757379             -0.734366      -0.149595        -0.265352   \n884763262976              0.006897       0.073421         0.032920   \n300647710810             -0.280428       0.001832        -0.167496   \n\n               acceleration_long_mean  acceleration_long_min  \\\nbookingID                                                      \n1073741824054               -0.236510               0.649702   \n1185410973787               -0.456249              -3.386541   \n163208757379                 0.332172               0.360240   \n884763262976                -0.235976              -0.678607   \n300647710810                -0.667545              -0.419490   \n\n               acceleration_long_max  dsd_score  below_gyroscope_mean_mean  \\\nbookingID                                                                    \n1073741824054              -0.718885   0.087165                   0.713602   \n1185410973787              -0.276225   0.147378                   0.679928   \n163208757379               -0.518229   0.097054                   0.826690   \n884763262976                1.065057   0.054181                   0.594817   \n300647710810                0.245768   0.083391                   0.671994   \n\n               below_accelerometer_mean_mean  below_speed_mean_mean  \\\nbookingID                                                             \n1073741824054                       0.617816               0.661877   \n1185410973787                       0.445750               0.520796   \n163208757379                        0.849220               0.840555   \n884763262976                        0.342756               0.669022   \n300647710810                        0.568450               0.431550   \n\n               Accuracy_mean  Accuracy_std label  \nbookingID                                         \n1073741824054      -0.179569     -0.209608   0.0  \n1185410973787      -0.089743      0.208117   0.0  \n163208757379        0.817729      0.654567   0.0  \n884763262976       -0.129732     -0.169451   0.0  \n300647710810       -0.157056     -0.195916   0.0  "
                    }, 
                    "output_type": "execute_result"
                }
            ], 
            "source": "df.head()"
        }, 
        {
            "source": "### Modelling", 
            "cell_type": "markdown", 
            "metadata": {}
        }, 
        {
            "execution_count": 152, 
            "cell_type": "code", 
            "metadata": {}, 
            "outputs": [], 
            "source": "from sklearn.model_selection import RandomizedSearchCV, GridSearchCV, StratifiedKFold\nfrom sklearn.metrics import roc_auc_score\nfrom xgboost import XGBClassifier\nfrom sklearn.metrics import precision_recall_fscore_support as modscore"
        }, 
        {
            "execution_count": 153, 
            "cell_type": "code", 
            "metadata": {}, 
            "outputs": [], 
            "source": "xgb = XGBClassifier(learning_rate=0.02, n_estimators=600, objective='binary:logistic')"
        }, 
        {
            "execution_count": 154, 
            "cell_type": "code", 
            "metadata": {}, 
            "outputs": [], 
            "source": "params = {\n        'min_child_weight': [1, 5, 10],\n        'gamma': [0.5, 1, 1.5, 2, 5],\n        'subsample': [0.6, 0.8, 1.0],\n        'colsample_bytree': [0.6, 0.8, 1.0],\n        'max_depth': [3, 4, 5],\n        'scale_pos_weight': [0.25, 0.33, 0.75, 3]\n        }"
        }, 
        {
            "execution_count": 155, 
            "cell_type": "code", 
            "metadata": {}, 
            "outputs": [], 
            "source": "df.label = df.label.astype('category')"
        }, 
        {
            "execution_count": 156, 
            "cell_type": "code", 
            "metadata": {}, 
            "outputs": [], 
            "source": "exclude = ['label']\ninclude = ['Accuracy_mean', 'Accuracy_std', 'dsd_score', 'Speed_mean', 'Speed_max', 'Speed_std', 'accelerometer_rms', 'accelerometer_std', 'gyroscope_rms', 'gyroscope_std', 'acceleration_long_mean',\n       'acceleration_long_min', 'acceleration_long_max', 'below_speed_mean', 'below_accelerometer_mean', 'below_gyroscope_mean' ]\nX = df.loc[:, df.columns.difference(exclude)]\n#X = df.loc[:, include]\ny = df.label\n\nfrom sklearn.model_selection import train_test_split\nX_train, X_test, y_train, y_test = train_test_split(X, y, test_size = 0.25, stratify=y, random_state = 9)"
        }, 
        {
            "execution_count": 157, 
            "cell_type": "code", 
            "metadata": {}, 
            "outputs": [
                {
                    "execution_count": 157, 
                    "metadata": {}, 
                    "data": {
                        "text/html": "<div>\n<style scoped>\n    .dataframe tbody tr th:only-of-type {\n        vertical-align: middle;\n    }\n\n    .dataframe tbody tr th {\n        vertical-align: top;\n    }\n\n    .dataframe thead th {\n        text-align: right;\n    }\n</style>\n<table border=\"1\" class=\"dataframe\">\n  <thead>\n    <tr style=\"text-align: right;\">\n      <th></th>\n      <th>Accuracy_mean</th>\n      <th>Accuracy_std</th>\n      <th>Speed_max</th>\n      <th>Speed_mean</th>\n      <th>Speed_std</th>\n      <th>acceleration_long_max</th>\n      <th>acceleration_long_mean</th>\n      <th>acceleration_long_min</th>\n      <th>accelerometer_rms</th>\n      <th>accelerometer_stdev</th>\n      <th>below_accelerometer_mean_mean</th>\n      <th>below_gyroscope_mean_mean</th>\n      <th>below_speed_mean_mean</th>\n      <th>dsd_score</th>\n      <th>gyroscope_rms</th>\n      <th>gyroscope_stdev</th>\n    </tr>\n    <tr>\n      <th>bookingID</th>\n      <th></th>\n      <th></th>\n      <th></th>\n      <th></th>\n      <th></th>\n      <th></th>\n      <th></th>\n      <th></th>\n      <th></th>\n      <th></th>\n      <th></th>\n      <th></th>\n      <th></th>\n      <th></th>\n      <th></th>\n      <th></th>\n    </tr>\n  </thead>\n  <tbody>\n    <tr>\n      <th>1073741824054</th>\n      <td>-0.179569</td>\n      <td>-0.209608</td>\n      <td>-0.312805</td>\n      <td>-0.405845</td>\n      <td>-0.234141</td>\n      <td>-0.718885</td>\n      <td>-0.236510</td>\n      <td>0.649702</td>\n      <td>0.015162</td>\n      <td>0.035154</td>\n      <td>0.617816</td>\n      <td>0.713602</td>\n      <td>0.661877</td>\n      <td>0.087165</td>\n      <td>-0.072111</td>\n      <td>-0.092967</td>\n    </tr>\n    <tr>\n      <th>1185410973787</th>\n      <td>-0.089743</td>\n      <td>0.208117</td>\n      <td>1.570565</td>\n      <td>0.289790</td>\n      <td>0.877306</td>\n      <td>-0.276225</td>\n      <td>-0.456249</td>\n      <td>-3.386541</td>\n      <td>0.121670</td>\n      <td>0.129945</td>\n      <td>0.445750</td>\n      <td>0.679928</td>\n      <td>0.520796</td>\n      <td>0.147378</td>\n      <td>-0.023846</td>\n      <td>-0.115684</td>\n    </tr>\n    <tr>\n      <th>163208757379</th>\n      <td>0.817729</td>\n      <td>0.654567</td>\n      <td>-0.713515</td>\n      <td>-1.015555</td>\n      <td>-0.599370</td>\n      <td>-0.518229</td>\n      <td>0.332172</td>\n      <td>0.360240</td>\n      <td>-0.189025</td>\n      <td>-0.734366</td>\n      <td>0.849220</td>\n      <td>0.826690</td>\n      <td>0.840555</td>\n      <td>0.097054</td>\n      <td>-0.149595</td>\n      <td>-0.265352</td>\n    </tr>\n    <tr>\n      <th>884763262976</th>\n      <td>-0.129732</td>\n      <td>-0.169451</td>\n      <td>-0.516522</td>\n      <td>-0.641012</td>\n      <td>-0.165395</td>\n      <td>1.065057</td>\n      <td>-0.235976</td>\n      <td>-0.678607</td>\n      <td>0.103443</td>\n      <td>0.006897</td>\n      <td>0.342756</td>\n      <td>0.594817</td>\n      <td>0.669022</td>\n      <td>0.054181</td>\n      <td>0.073421</td>\n      <td>0.032920</td>\n    </tr>\n    <tr>\n      <th>300647710810</th>\n      <td>-0.157056</td>\n      <td>-0.195916</td>\n      <td>1.256122</td>\n      <td>0.819040</td>\n      <td>1.694677</td>\n      <td>0.245768</td>\n      <td>-0.667545</td>\n      <td>-0.419490</td>\n      <td>-0.025351</td>\n      <td>-0.280428</td>\n      <td>0.568450</td>\n      <td>0.671994</td>\n      <td>0.431550</td>\n      <td>0.083391</td>\n      <td>0.001832</td>\n      <td>-0.167496</td>\n    </tr>\n  </tbody>\n</table>\n</div>", 
                        "text/plain": "               Accuracy_mean  Accuracy_std  Speed_max  Speed_mean  Speed_std  \\\nbookingID                                                                      \n1073741824054      -0.179569     -0.209608  -0.312805   -0.405845  -0.234141   \n1185410973787      -0.089743      0.208117   1.570565    0.289790   0.877306   \n163208757379        0.817729      0.654567  -0.713515   -1.015555  -0.599370   \n884763262976       -0.129732     -0.169451  -0.516522   -0.641012  -0.165395   \n300647710810       -0.157056     -0.195916   1.256122    0.819040   1.694677   \n\n               acceleration_long_max  acceleration_long_mean  \\\nbookingID                                                      \n1073741824054              -0.718885               -0.236510   \n1185410973787              -0.276225               -0.456249   \n163208757379               -0.518229                0.332172   \n884763262976                1.065057               -0.235976   \n300647710810                0.245768               -0.667545   \n\n               acceleration_long_min  accelerometer_rms  accelerometer_stdev  \\\nbookingID                                                                      \n1073741824054               0.649702           0.015162             0.035154   \n1185410973787              -3.386541           0.121670             0.129945   \n163208757379                0.360240          -0.189025            -0.734366   \n884763262976               -0.678607           0.103443             0.006897   \n300647710810               -0.419490          -0.025351            -0.280428   \n\n               below_accelerometer_mean_mean  below_gyroscope_mean_mean  \\\nbookingID                                                                 \n1073741824054                       0.617816                   0.713602   \n1185410973787                       0.445750                   0.679928   \n163208757379                        0.849220                   0.826690   \n884763262976                        0.342756                   0.594817   \n300647710810                        0.568450                   0.671994   \n\n               below_speed_mean_mean  dsd_score  gyroscope_rms  \\\nbookingID                                                        \n1073741824054               0.661877   0.087165      -0.072111   \n1185410973787               0.520796   0.147378      -0.023846   \n163208757379                0.840555   0.097054      -0.149595   \n884763262976                0.669022   0.054181       0.073421   \n300647710810                0.431550   0.083391       0.001832   \n\n               gyroscope_stdev  \nbookingID                       \n1073741824054        -0.092967  \n1185410973787        -0.115684  \n163208757379         -0.265352  \n884763262976          0.032920  \n300647710810         -0.167496  "
                    }, 
                    "output_type": "execute_result"
                }
            ], 
            "source": "X.head()"
        }, 
        {
            "execution_count": 158, 
            "cell_type": "code", 
            "metadata": {
                "scrolled": false
            }, 
            "outputs": [
                {
                    "output_type": "stream", 
                    "name": "stdout", 
                    "text": "Fitting 5 folds for each of 5 candidates, totalling 25 fits\n"
                }, 
                {
                    "output_type": "stream", 
                    "name": "stderr", 
                    "text": "[Parallel(n_jobs=-1)]: Using backend LokyBackend with 4 concurrent workers.\n[Parallel(n_jobs=-1)]: Done  25 out of  25 | elapsed:   45.2s finished\n"
                }, 
                {
                    "execution_count": 158, 
                    "metadata": {}, 
                    "data": {
                        "text/plain": "RandomizedSearchCV(cv=<generator object _BaseKFold.split at 0x7fc07c937728>,\n          error_score='raise-deprecating',\n          estimator=XGBClassifier(base_score=0.5, booster='gbtree', colsample_bylevel=1,\n       colsample_bytree=1, gamma=0, learning_rate=0.02, max_delta_step=0,\n       max_depth=3, min_child_weight=1, missing=None, n_estimators=600,\n       n_jobs=1, nthread=None, objective='binary:logistic', random_state=0,\n       reg_alpha=0, reg_lambda=1, scale_pos_weight=1, seed=None,\n       silent=True, subsample=1),\n          fit_params=None, iid='warn', n_iter=5, n_jobs=-1,\n          param_distributions={'min_child_weight': [1, 5, 10], 'gamma': [0.5, 1, 1.5, 2, 5], 'subsample': [0.6, 0.8, 1.0], 'colsample_bytree': [0.6, 0.8, 1.0], 'max_depth': [3, 4, 5], 'scale_pos_weight': [0.25, 0.33, 0.75, 3]},\n          pre_dispatch='2*n_jobs', random_state=9, refit=True,\n          return_train_score='warn', scoring='roc_auc', verbose=3)"
                    }, 
                    "output_type": "execute_result"
                }
            ], 
            "source": "folds = 5\nparam_comb = 5\n\nskf = StratifiedKFold(n_splits=folds, shuffle=True, random_state=33)\n\nrandom_search = RandomizedSearchCV(xgb, param_distributions=params, n_iter=param_comb, scoring='roc_auc', n_jobs=-1,\n                                   cv=skf.split(X_train, y_train), verbose=3, random_state=9)\n\nrandom_search.fit(X_train, y_train)"
        }, 
        {
            "execution_count": 159, 
            "cell_type": "code", 
            "metadata": {}, 
            "outputs": [
                {
                    "execution_count": 159, 
                    "metadata": {}, 
                    "data": {
                        "text/plain": "XGBClassifier(base_score=0.5, booster='gbtree', colsample_bylevel=1,\n       colsample_bytree=0.6, gamma=5, learning_rate=0.02, max_delta_step=0,\n       max_depth=4, min_child_weight=10, missing=None, n_estimators=600,\n       n_jobs=1, nthread=None, objective='binary:logistic', random_state=0,\n       reg_alpha=0, reg_lambda=1, scale_pos_weight=3, seed=None,\n       silent=True, subsample=0.6)"
                    }, 
                    "output_type": "execute_result"
                }
            ], 
            "source": "random_search.best_estimator_"
        }, 
        {
            "execution_count": 160, 
            "cell_type": "code", 
            "metadata": {}, 
            "outputs": [
                {
                    "execution_count": 160, 
                    "metadata": {}, 
                    "data": {
                        "text/plain": "0.6621875487760961"
                    }, 
                    "output_type": "execute_result"
                }
            ], 
            "source": "random_search.best_score_"
        }, 
        {
            "execution_count": 161, 
            "cell_type": "code", 
            "metadata": {}, 
            "outputs": [
                {
                    "execution_count": 161, 
                    "metadata": {}, 
                    "data": {
                        "text/plain": "array([0.06608499, 0.07674907, 0.09500727, 0.07497172, 0.05396672,\n       0.05089675, 0.07852641, 0.05768299, 0.04782679, 0.06139925,\n       0.04588787, 0.05542091, 0.07384069, 0.05784456, 0.04297948,\n       0.06091453], dtype=float32)"
                    }, 
                    "output_type": "execute_result"
                }
            ], 
            "source": "random_search.best_estimator_.feature_importances_"
        }, 
        {
            "execution_count": 162, 
            "cell_type": "code", 
            "metadata": {}, 
            "outputs": [
                {
                    "execution_count": 162, 
                    "metadata": {}, 
                    "data": {
                        "text/plain": "Index(['Accuracy_mean', 'Accuracy_std', 'Speed_max', 'Speed_mean', 'Speed_std',\n       'acceleration_long_max', 'acceleration_long_mean',\n       'acceleration_long_min', 'accelerometer_rms', 'accelerometer_stdev',\n       'below_accelerometer_mean_mean', 'below_gyroscope_mean_mean',\n       'below_speed_mean_mean', 'dsd_score', 'gyroscope_rms',\n       'gyroscope_stdev'],\n      dtype='object')"
                    }, 
                    "output_type": "execute_result"
                }
            ], 
            "source": "X.columns"
        }, 
        {
            "execution_count": 163, 
            "cell_type": "code", 
            "metadata": {}, 
            "outputs": [
                {
                    "execution_count": 163, 
                    "metadata": {}, 
                    "data": {
                        "text/plain": "{'base_score': 0.5,\n 'booster': 'gbtree',\n 'colsample_bylevel': 1,\n 'colsample_bytree': 0.6,\n 'gamma': 5,\n 'learning_rate': 0.02,\n 'max_delta_step': 0,\n 'max_depth': 4,\n 'min_child_weight': 10,\n 'missing': None,\n 'n_estimators': 600,\n 'n_jobs': 1,\n 'nthread': None,\n 'objective': 'binary:logistic',\n 'random_state': 0,\n 'reg_alpha': 0,\n 'reg_lambda': 1,\n 'scale_pos_weight': 3,\n 'seed': None,\n 'silent': True,\n 'subsample': 0.6}"
                    }, 
                    "output_type": "execute_result"
                }
            ], 
            "source": "random_search.best_estimator_.get_params()"
        }, 
        {
            "execution_count": 164, 
            "cell_type": "code", 
            "metadata": {}, 
            "outputs": [], 
            "source": "import matplotlib.pyplot as plt\nimport seaborn as sns\n\ndef print_confusion_matrix(confusion_matrix, class_names, figsize = (10,7), fontsize=14):\n    \"\"\"Prints a confusion matrix, as returned by sklearn.metrics.confusion_matrix, as a heatmap.\n    \n    Arguments\n    ---------\n    confusion_matrix: numpy.ndarray\n        The numpy.ndarray object returned from a call to sklearn.metrics.confusion_matrix. \n        Similarly constructed ndarrays can also be used.\n    class_names: list\n        An ordered list of class names, in the order they index the given confusion matrix.\n    figsize: tuple\n        A 2-long tuple, the first value determining the horizontal size of the ouputted figure,\n        the second determining the vertical size. Defaults to (10,7).\n    fontsize: int\n        Font size for axes labels. Defaults to 14.\n        \n    Returns\n    -------\n    matplotlib.figure.Figure\n        The resulting confusion matrix figure\n    \"\"\"\n    df_cm = pd.DataFrame(\n        confusion_matrix, index=class_names, columns=class_names, \n    )\n    fig = plt.figure(figsize=figsize)\n    try:\n        heatmap = sns.heatmap(df_cm, annot=True, fmt=\"d\")\n    except ValueError:\n        raise ValueError(\"Confusion matrix values must be integers.\")\n    heatmap.yaxis.set_ticklabels(heatmap.yaxis.get_ticklabels(), rotation=0, ha='right', fontsize=fontsize)\n    heatmap.xaxis.set_ticklabels(heatmap.xaxis.get_ticklabels(), rotation=45, ha='right', fontsize=fontsize)\n    plt.ylabel('True label')\n    plt.xlabel('Predicted label')\n    return fig"
        }, 
        {
            "execution_count": 165, 
            "cell_type": "code", 
            "metadata": {}, 
            "outputs": [], 
            "source": "from sklearn.metrics import confusion_matrix\nfrom sklearn.metrics import classification_report\n#print_confusion_matrix(confusion_matrix(y_test, predicted) ,class_names=['True', 'False'], figsize = (3,3))"
        }, 
        {
            "execution_count": 166, 
            "cell_type": "code", 
            "metadata": {}, 
            "outputs": [], 
            "source": "predicted = random_search.predict(X_test)\nreport = classification_report(y_test, predicted)"
        }, 
        {
            "execution_count": 167, 
            "cell_type": "code", 
            "metadata": {}, 
            "outputs": [
                {
                    "output_type": "display_data", 
                    "data": {
                        "image/png": "[encoded data removed]", 
                        "text/plain": "<Figure size 216x216 with 2 Axes>"
                    }, 
                    "metadata": {
                        "needs_background": "light"
                    }
                }
            ], 
            "source": "print_confusion_matrix(confusion_matrix(y_test, predicted) ,class_names=['True', 'False'], figsize = (3,3));"
        }, 
        {
            "execution_count": 168, 
            "cell_type": "code", 
            "metadata": {}, 
            "outputs": [
                {
                    "output_type": "stream", 
                    "name": "stdout", 
                    "text": "              precision    recall  f1-score   support\n\n         0.0       0.81      0.68      0.74      3750\n         1.0       0.35      0.51      0.41      1246\n\n   micro avg       0.64      0.64      0.64      4996\n   macro avg       0.58      0.60      0.58      4996\nweighted avg       0.69      0.64      0.66      4996\n\nAUC:  0.6621875487760961\n"
                }
            ], 
            "source": "print(report)\nprint('AUC: ',random_search.best_score_)"
        }, 
        {
            "execution_count": 169, 
            "cell_type": "code", 
            "metadata": {}, 
            "outputs": [
                {
                    "output_type": "stream", 
                    "name": "stdout", 
                    "text": "              precision    recall  f1-score   support\n\n         0.0       0.87      0.71      0.78     11249\n         1.0       0.44      0.69      0.54      3737\n\n   micro avg       0.70      0.70      0.70     14986\n   macro avg       0.66      0.70      0.66     14986\nweighted avg       0.76      0.70      0.72     14986\n\n"
                }
            ], 
            "source": "predicted2 = random_search.predict(X_train)\nreport2 = classification_report(y_train, predicted2)\nprint(report2)"
        }, 
        {
            "execution_count": 170, 
            "cell_type": "code", 
            "metadata": {}, 
            "outputs": [
                {
                    "execution_count": 170, 
                    "metadata": {}, 
                    "data": {
                        "text/plain": "<matplotlib.axes._subplots.AxesSubplot at 0x7fc0fc3229e8>"
                    }, 
                    "output_type": "execute_result"
                }, 
                {
                    "output_type": "display_data", 
                    "data": {
                        "image/png": "[encoded data removed]", 
                        "text/plain": "<Figure size 432x288 with 1 Axes>"
                    }, 
                    "metadata": {
                        "needs_background": "light"
                    }
                }
            ], 
            "source": "from xgboost import plot_importance\nplot_importance(random_search.best_estimator_)"
        }, 
        {
            "execution_count": null, 
            "cell_type": "code", 
            "metadata": {}, 
            "outputs": [], 
            "source": ""
        }
    ], 
    "metadata": {
        "kernelspec": {
            "display_name": "Python 3.6", 
            "name": "python3", 
            "language": "python"
        }, 
        "language_info": {
            "mimetype": "text/x-python", 
            "nbconvert_exporter": "python", 
            "version": "3.6.8", 
            "name": "python", 
            "file_extension": ".py", 
            "pygments_lexer": "ipython3", 
            "codemirror_mode": {
                "version": 3, 
                "name": "ipython"
            }
        }
    }, 
    "nbformat": 4
}